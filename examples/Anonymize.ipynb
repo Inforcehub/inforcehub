{
 "cells": [
  {
   "cell_type": "markdown",
   "metadata": {},
   "source": [
    "# Anonymize\n",
    "\n",
    "See documentation for more details: https://inforcehub.readthedocs.io/en/latest/modules/anon.html"
   ]
  },
  {
   "cell_type": "code",
   "execution_count": 1,
   "metadata": {},
   "outputs": [],
   "source": [
    "# Ignore this cell - this is just used to make this example notebook work\n",
    "import sys\n",
    "sys.path.append(\"../\") "
   ]
  },
  {
   "cell_type": "markdown",
   "metadata": {},
   "source": [
    "## Load demo product data that we will anonymize"
   ]
  },
  {
   "cell_type": "code",
   "execution_count": 2,
   "metadata": {
    "scrolled": true
   },
   "outputs": [
    {
     "data": {
      "text/html": [
       "<div>\n",
       "<style scoped>\n",
       "    .dataframe tbody tr th:only-of-type {\n",
       "        vertical-align: middle;\n",
       "    }\n",
       "\n",
       "    .dataframe tbody tr th {\n",
       "        vertical-align: top;\n",
       "    }\n",
       "\n",
       "    .dataframe thead th {\n",
       "        text-align: right;\n",
       "    }\n",
       "</style>\n",
       "<table border=\"1\" class=\"dataframe\">\n",
       "  <thead>\n",
       "    <tr style=\"text-align: right;\">\n",
       "      <th></th>\n",
       "      <th>Contract number</th>\n",
       "      <th>Product</th>\n",
       "      <th>Status</th>\n",
       "      <th>First name</th>\n",
       "      <th>Last name</th>\n",
       "      <th>Age</th>\n",
       "      <th>DOB</th>\n",
       "      <th>Start date</th>\n",
       "      <th>Distributor code</th>\n",
       "      <th>Sum Assured</th>\n",
       "      <th>In-force premium</th>\n",
       "    </tr>\n",
       "  </thead>\n",
       "  <tbody>\n",
       "    <tr>\n",
       "      <th>0</th>\n",
       "      <td>33463634</td>\n",
       "      <td>Mousetrap</td>\n",
       "      <td>Active</td>\n",
       "      <td>John</td>\n",
       "      <td>McGee</td>\n",
       "      <td>45</td>\n",
       "      <td>2-Nov-1954</td>\n",
       "      <td>1-Jan-2013</td>\n",
       "      <td>3456</td>\n",
       "      <td>100000</td>\n",
       "      <td>150.3</td>\n",
       "    </tr>\n",
       "    <tr>\n",
       "      <th>1</th>\n",
       "      <td>223422342</td>\n",
       "      <td>Mousetrap</td>\n",
       "      <td>Active</td>\n",
       "      <td>Jane</td>\n",
       "      <td>Morrison</td>\n",
       "      <td>67</td>\n",
       "      <td>4-Jan-1967</td>\n",
       "      <td>1-Jan-2013</td>\n",
       "      <td>355</td>\n",
       "      <td>200000</td>\n",
       "      <td>204.0</td>\n",
       "    </tr>\n",
       "    <tr>\n",
       "      <th>2</th>\n",
       "      <td>4464646</td>\n",
       "      <td>Mousetrap Pro</td>\n",
       "      <td>Active</td>\n",
       "      <td>Bruce</td>\n",
       "      <td>Lane</td>\n",
       "      <td>62</td>\n",
       "      <td>1-Jan-1943</td>\n",
       "      <td>1-Jan-2013</td>\n",
       "      <td>5757</td>\n",
       "      <td>500000</td>\n",
       "      <td>950.0</td>\n",
       "    </tr>\n",
       "    <tr>\n",
       "      <th>3</th>\n",
       "      <td>4234335</td>\n",
       "      <td>Mousetrap Pro</td>\n",
       "      <td>Paid-up</td>\n",
       "      <td>Betty</td>\n",
       "      <td>Brown</td>\n",
       "      <td>45</td>\n",
       "      <td>12-Dec-1986</td>\n",
       "      <td>1-Jan-2013</td>\n",
       "      <td>355</td>\n",
       "      <td>550000</td>\n",
       "      <td>0.0</td>\n",
       "    </tr>\n",
       "    <tr>\n",
       "      <th>4</th>\n",
       "      <td>33535363</td>\n",
       "      <td>Mousetrap Pro</td>\n",
       "      <td>Lapsed</td>\n",
       "      <td>Arnold</td>\n",
       "      <td>Brown</td>\n",
       "      <td>53</td>\n",
       "      <td>4-Apr-1972</td>\n",
       "      <td>1-Jan-2013</td>\n",
       "      <td>355</td>\n",
       "      <td>400000</td>\n",
       "      <td>0.0</td>\n",
       "    </tr>\n",
       "  </tbody>\n",
       "</table>\n",
       "</div>"
      ],
      "text/plain": [
       "   Contract number        Product   Status First name Last name  Age  \\\n",
       "0         33463634      Mousetrap   Active       John     McGee   45   \n",
       "1        223422342      Mousetrap   Active       Jane  Morrison   67   \n",
       "2          4464646  Mousetrap Pro   Active      Bruce      Lane   62   \n",
       "3          4234335  Mousetrap Pro  Paid-up      Betty     Brown   45   \n",
       "4         33535363  Mousetrap Pro   Lapsed     Arnold     Brown   53   \n",
       "\n",
       "           DOB  Start date  Distributor code  Sum Assured  In-force premium  \n",
       "0   2-Nov-1954  1-Jan-2013              3456       100000             150.3  \n",
       "1   4-Jan-1967  1-Jan-2013               355       200000             204.0  \n",
       "2   1-Jan-1943  1-Jan-2013              5757       500000             950.0  \n",
       "3  12-Dec-1986  1-Jan-2013               355       550000               0.0  \n",
       "4   4-Apr-1972  1-Jan-2013               355       400000               0.0  "
      ]
     },
     "execution_count": 2,
     "metadata": {},
     "output_type": "execute_result"
    }
   ],
   "source": [
    "import pandas as pd\n",
    "\n",
    "FILENAME = 'data/product_data.csv'\n",
    "df = pd.read_csv(FILENAME)\n",
    "df"
   ]
  },
  {
   "cell_type": "markdown",
   "metadata": {},
   "source": [
    "## Import the module and initialize"
   ]
  },
  {
   "cell_type": "code",
   "execution_count": 3,
   "metadata": {},
   "outputs": [],
   "source": [
    "from inforcehub import Anonymize"
   ]
  },
  {
   "cell_type": "markdown",
   "metadata": {},
   "source": [
    "Normally a new Anonymize object will be created with no parameters.\n",
    "This will give more security as the salt (passphrase) will be generated randomly."
   ]
  },
  {
   "cell_type": "code",
   "execution_count": 4,
   "metadata": {},
   "outputs": [
    {
     "data": {
      "text/plain": [
       "b'$2b$12$d1TUfhDWi4/a9TpXLHS5z.'"
      ]
     },
     "execution_count": 4,
     "metadata": {},
     "output_type": "execute_result"
    }
   ],
   "source": [
    "anon = Anonymize()\n",
    "\n",
    "# Check the salt (passphrase) initialized at random\n",
    "anon.salt"
   ]
  },
  {
   "cell_type": "markdown",
   "metadata": {},
   "source": [
    "Alternatively a passphrase can be set manually for the `salt` parameter if you want to be able to reproduce the exact same encryption in the future."
   ]
  },
  {
   "cell_type": "code",
   "execution_count": 5,
   "metadata": {},
   "outputs": [
    {
     "data": {
      "text/plain": [
       "b'A_LONG_PASSWORD_THING'"
      ]
     },
     "execution_count": 5,
     "metadata": {},
     "output_type": "execute_result"
    }
   ],
   "source": [
    "anon_reproduce = Anonymize(salt='A_LONG_PASSWORD_THING')\n",
    "anon_reproduce.salt"
   ]
  },
  {
   "cell_type": "markdown",
   "metadata": {},
   "source": [
    "## Anonymize the dataset\n",
    "\n",
    "First list the columns that need to be encrypted."
   ]
  },
  {
   "cell_type": "code",
   "execution_count": 6,
   "metadata": {},
   "outputs": [],
   "source": [
    "to_transform = ['Contract number', 'First name', 'Last name', 'DOB']"
   ]
  },
  {
   "cell_type": "markdown",
   "metadata": {},
   "source": [
    "Then use the `transform()` method to anonymize the dataframe \n",
    "\n",
    "**Note** that `transform()` encrypts the original dataframe you pass the function and does not \n",
    "take a copy in order to not use too much memory. Take a copy of the dataframe \n",
    "with `original_df = df.copy(deep=True)` first if you want to keep the original.\n",
    "\n",
    "Using the `verbose=True` option will output the status as it does the encryption"
   ]
  },
  {
   "cell_type": "code",
   "execution_count": 7,
   "metadata": {},
   "outputs": [
    {
     "name": "stdout",
     "output_type": "stream",
     "text": [
      "Will convert columns: Contract number, First name, Last name, DOB\n",
      "Encrypting 5 rows per column ...\n",
      "\n",
      "Finished encrypting column Contract number\n",
      "Finished encrypting column First name\n",
      "Finished encrypting column Last name\n",
      "Finished encrypting column DOB\n"
     ]
    },
    {
     "data": {
      "text/html": [
       "<div>\n",
       "<style scoped>\n",
       "    .dataframe tbody tr th:only-of-type {\n",
       "        vertical-align: middle;\n",
       "    }\n",
       "\n",
       "    .dataframe tbody tr th {\n",
       "        vertical-align: top;\n",
       "    }\n",
       "\n",
       "    .dataframe thead th {\n",
       "        text-align: right;\n",
       "    }\n",
       "</style>\n",
       "<table border=\"1\" class=\"dataframe\">\n",
       "  <thead>\n",
       "    <tr style=\"text-align: right;\">\n",
       "      <th></th>\n",
       "      <th>Contract number</th>\n",
       "      <th>Product</th>\n",
       "      <th>Status</th>\n",
       "      <th>First name</th>\n",
       "      <th>Last name</th>\n",
       "      <th>Age</th>\n",
       "      <th>DOB</th>\n",
       "      <th>Start date</th>\n",
       "      <th>Distributor code</th>\n",
       "      <th>Sum Assured</th>\n",
       "      <th>In-force premium</th>\n",
       "    </tr>\n",
       "  </thead>\n",
       "  <tbody>\n",
       "    <tr>\n",
       "      <th>0</th>\n",
       "      <td>d772b2ab4b1aa26375bc98c4192eb090</td>\n",
       "      <td>Mousetrap</td>\n",
       "      <td>Active</td>\n",
       "      <td>98f93e36a7684e30de9d239c10a4fad8</td>\n",
       "      <td>4cc2da2225a1e4a77bcc880dfb7e6ed8</td>\n",
       "      <td>45</td>\n",
       "      <td>20855ef826f425a348248ce5e8527423</td>\n",
       "      <td>1-Jan-2013</td>\n",
       "      <td>3456</td>\n",
       "      <td>100000</td>\n",
       "      <td>150.3</td>\n",
       "    </tr>\n",
       "    <tr>\n",
       "      <th>1</th>\n",
       "      <td>2aac32e4fcc94db4fbeeb065cad7771c</td>\n",
       "      <td>Mousetrap</td>\n",
       "      <td>Active</td>\n",
       "      <td>48e03092929b3ec415a43effda854534</td>\n",
       "      <td>2c5b703c38a565a5deeeabb583e256e0</td>\n",
       "      <td>67</td>\n",
       "      <td>4762743b3050e52651df242edc1b7015</td>\n",
       "      <td>1-Jan-2013</td>\n",
       "      <td>355</td>\n",
       "      <td>200000</td>\n",
       "      <td>204.0</td>\n",
       "    </tr>\n",
       "    <tr>\n",
       "      <th>2</th>\n",
       "      <td>d87ee3b9f8be8d9ae75f22a4d2777b68</td>\n",
       "      <td>Mousetrap Pro</td>\n",
       "      <td>Active</td>\n",
       "      <td>dc98217af113adadb8fc8dcd6b9bca3a</td>\n",
       "      <td>b7e484bf36156ccd220376db4ce03cb2</td>\n",
       "      <td>62</td>\n",
       "      <td>8847c1ff7566c075cf864fa89f16e0e8</td>\n",
       "      <td>1-Jan-2013</td>\n",
       "      <td>5757</td>\n",
       "      <td>500000</td>\n",
       "      <td>950.0</td>\n",
       "    </tr>\n",
       "    <tr>\n",
       "      <th>3</th>\n",
       "      <td>30416905489a59b2d4144d7967f65386</td>\n",
       "      <td>Mousetrap Pro</td>\n",
       "      <td>Paid-up</td>\n",
       "      <td>8f198f0d95a9741fc802bd8f9fae2210</td>\n",
       "      <td>58b5cb9dbcec378955d2218617d6c3d3</td>\n",
       "      <td>45</td>\n",
       "      <td>ba7c8011d73db8a7a64854d67130fc51</td>\n",
       "      <td>1-Jan-2013</td>\n",
       "      <td>355</td>\n",
       "      <td>550000</td>\n",
       "      <td>0.0</td>\n",
       "    </tr>\n",
       "    <tr>\n",
       "      <th>4</th>\n",
       "      <td>b62470b629ef90d03eb9f71b17795da3</td>\n",
       "      <td>Mousetrap Pro</td>\n",
       "      <td>Lapsed</td>\n",
       "      <td>a819ca6223420bb840e84e4692fe9a4b</td>\n",
       "      <td>58b5cb9dbcec378955d2218617d6c3d3</td>\n",
       "      <td>53</td>\n",
       "      <td>e10f14b1baba262cb8b13d8392444614</td>\n",
       "      <td>1-Jan-2013</td>\n",
       "      <td>355</td>\n",
       "      <td>400000</td>\n",
       "      <td>0.0</td>\n",
       "    </tr>\n",
       "  </tbody>\n",
       "</table>\n",
       "</div>"
      ],
      "text/plain": [
       "                    Contract number        Product   Status  \\\n",
       "0  d772b2ab4b1aa26375bc98c4192eb090      Mousetrap   Active   \n",
       "1  2aac32e4fcc94db4fbeeb065cad7771c      Mousetrap   Active   \n",
       "2  d87ee3b9f8be8d9ae75f22a4d2777b68  Mousetrap Pro   Active   \n",
       "3  30416905489a59b2d4144d7967f65386  Mousetrap Pro  Paid-up   \n",
       "4  b62470b629ef90d03eb9f71b17795da3  Mousetrap Pro   Lapsed   \n",
       "\n",
       "                         First name                         Last name  Age  \\\n",
       "0  98f93e36a7684e30de9d239c10a4fad8  4cc2da2225a1e4a77bcc880dfb7e6ed8   45   \n",
       "1  48e03092929b3ec415a43effda854534  2c5b703c38a565a5deeeabb583e256e0   67   \n",
       "2  dc98217af113adadb8fc8dcd6b9bca3a  b7e484bf36156ccd220376db4ce03cb2   62   \n",
       "3  8f198f0d95a9741fc802bd8f9fae2210  58b5cb9dbcec378955d2218617d6c3d3   45   \n",
       "4  a819ca6223420bb840e84e4692fe9a4b  58b5cb9dbcec378955d2218617d6c3d3   53   \n",
       "\n",
       "                                DOB  Start date  Distributor code  \\\n",
       "0  20855ef826f425a348248ce5e8527423  1-Jan-2013              3456   \n",
       "1  4762743b3050e52651df242edc1b7015  1-Jan-2013               355   \n",
       "2  8847c1ff7566c075cf864fa89f16e0e8  1-Jan-2013              5757   \n",
       "3  ba7c8011d73db8a7a64854d67130fc51  1-Jan-2013               355   \n",
       "4  e10f14b1baba262cb8b13d8392444614  1-Jan-2013               355   \n",
       "\n",
       "   Sum Assured  In-force premium  \n",
       "0       100000             150.3  \n",
       "1       200000             204.0  \n",
       "2       500000             950.0  \n",
       "3       550000               0.0  \n",
       "4       400000               0.0  "
      ]
     },
     "execution_count": 7,
     "metadata": {},
     "output_type": "execute_result"
    }
   ],
   "source": [
    "anon.transform(df, to_transform, verbose=True)\n",
    "df"
   ]
  },
  {
   "cell_type": "markdown",
   "metadata": {},
   "source": [
    "## Pseudo-anonymize the dataset\n",
    "\n",
    "The same process is used, and collect the **lookup keys** are returned by the `tranform()` method"
   ]
  },
  {
   "cell_type": "code",
   "execution_count": 8,
   "metadata": {},
   "outputs": [],
   "source": [
    "# Reset our dataframe from our file\n",
    "df = pd.read_csv(FILENAME)"
   ]
  },
  {
   "cell_type": "code",
   "execution_count": 9,
   "metadata": {},
   "outputs": [
    {
     "name": "stdout",
     "output_type": "stream",
     "text": [
      "Will convert columns: Contract number, First name, Last name, DOB\n",
      "Encrypting 5 rows per column ...\n",
      "\n",
      "Finished encrypting column Contract number\n",
      "Finished encrypting column First name\n",
      "Finished encrypting column Last name\n",
      "Finished encrypting column DOB\n"
     ]
    }
   ],
   "source": [
    "# Collect the lookup keys\n",
    "lookup_df = anon.transform(df, to_transform, verbose=True)"
   ]
  },
  {
   "cell_type": "markdown",
   "metadata": {},
   "source": [
    "The lookup keys are a dataframe of column pairs for the encrypted and unencrypted values"
   ]
  },
  {
   "cell_type": "code",
   "execution_count": 10,
   "metadata": {},
   "outputs": [
    {
     "data": {
      "text/html": [
       "<div>\n",
       "<style scoped>\n",
       "    .dataframe tbody tr th:only-of-type {\n",
       "        vertical-align: middle;\n",
       "    }\n",
       "\n",
       "    .dataframe tbody tr th {\n",
       "        vertical-align: top;\n",
       "    }\n",
       "\n",
       "    .dataframe thead th {\n",
       "        text-align: right;\n",
       "    }\n",
       "</style>\n",
       "<table border=\"1\" class=\"dataframe\">\n",
       "  <thead>\n",
       "    <tr style=\"text-align: right;\">\n",
       "      <th></th>\n",
       "      <th>Contract number</th>\n",
       "      <th>Contract number_</th>\n",
       "      <th>First name</th>\n",
       "      <th>First name_</th>\n",
       "      <th>Last name</th>\n",
       "      <th>Last name_</th>\n",
       "      <th>DOB</th>\n",
       "      <th>DOB_</th>\n",
       "    </tr>\n",
       "  </thead>\n",
       "  <tbody>\n",
       "    <tr>\n",
       "      <th>0</th>\n",
       "      <td>33463634</td>\n",
       "      <td>d772b2ab4b1aa26375bc98c4192eb090</td>\n",
       "      <td>John</td>\n",
       "      <td>98f93e36a7684e30de9d239c10a4fad8</td>\n",
       "      <td>McGee</td>\n",
       "      <td>4cc2da2225a1e4a77bcc880dfb7e6ed8</td>\n",
       "      <td>2-Nov-1954</td>\n",
       "      <td>20855ef826f425a348248ce5e8527423</td>\n",
       "    </tr>\n",
       "    <tr>\n",
       "      <th>1</th>\n",
       "      <td>223422342</td>\n",
       "      <td>2aac32e4fcc94db4fbeeb065cad7771c</td>\n",
       "      <td>Jane</td>\n",
       "      <td>48e03092929b3ec415a43effda854534</td>\n",
       "      <td>Morrison</td>\n",
       "      <td>2c5b703c38a565a5deeeabb583e256e0</td>\n",
       "      <td>4-Jan-1967</td>\n",
       "      <td>4762743b3050e52651df242edc1b7015</td>\n",
       "    </tr>\n",
       "    <tr>\n",
       "      <th>2</th>\n",
       "      <td>4464646</td>\n",
       "      <td>d87ee3b9f8be8d9ae75f22a4d2777b68</td>\n",
       "      <td>Bruce</td>\n",
       "      <td>dc98217af113adadb8fc8dcd6b9bca3a</td>\n",
       "      <td>Lane</td>\n",
       "      <td>b7e484bf36156ccd220376db4ce03cb2</td>\n",
       "      <td>1-Jan-1943</td>\n",
       "      <td>8847c1ff7566c075cf864fa89f16e0e8</td>\n",
       "    </tr>\n",
       "    <tr>\n",
       "      <th>3</th>\n",
       "      <td>4234335</td>\n",
       "      <td>30416905489a59b2d4144d7967f65386</td>\n",
       "      <td>Betty</td>\n",
       "      <td>8f198f0d95a9741fc802bd8f9fae2210</td>\n",
       "      <td>Brown</td>\n",
       "      <td>58b5cb9dbcec378955d2218617d6c3d3</td>\n",
       "      <td>12-Dec-1986</td>\n",
       "      <td>ba7c8011d73db8a7a64854d67130fc51</td>\n",
       "    </tr>\n",
       "    <tr>\n",
       "      <th>4</th>\n",
       "      <td>33535363</td>\n",
       "      <td>b62470b629ef90d03eb9f71b17795da3</td>\n",
       "      <td>Arnold</td>\n",
       "      <td>a819ca6223420bb840e84e4692fe9a4b</td>\n",
       "      <td>Brown</td>\n",
       "      <td>58b5cb9dbcec378955d2218617d6c3d3</td>\n",
       "      <td>4-Apr-1972</td>\n",
       "      <td>e10f14b1baba262cb8b13d8392444614</td>\n",
       "    </tr>\n",
       "  </tbody>\n",
       "</table>\n",
       "</div>"
      ],
      "text/plain": [
       "   Contract number                  Contract number_ First name  \\\n",
       "0         33463634  d772b2ab4b1aa26375bc98c4192eb090       John   \n",
       "1        223422342  2aac32e4fcc94db4fbeeb065cad7771c       Jane   \n",
       "2          4464646  d87ee3b9f8be8d9ae75f22a4d2777b68      Bruce   \n",
       "3          4234335  30416905489a59b2d4144d7967f65386      Betty   \n",
       "4         33535363  b62470b629ef90d03eb9f71b17795da3     Arnold   \n",
       "\n",
       "                        First name_ Last name  \\\n",
       "0  98f93e36a7684e30de9d239c10a4fad8     McGee   \n",
       "1  48e03092929b3ec415a43effda854534  Morrison   \n",
       "2  dc98217af113adadb8fc8dcd6b9bca3a      Lane   \n",
       "3  8f198f0d95a9741fc802bd8f9fae2210     Brown   \n",
       "4  a819ca6223420bb840e84e4692fe9a4b     Brown   \n",
       "\n",
       "                         Last name_          DOB  \\\n",
       "0  4cc2da2225a1e4a77bcc880dfb7e6ed8   2-Nov-1954   \n",
       "1  2c5b703c38a565a5deeeabb583e256e0   4-Jan-1967   \n",
       "2  b7e484bf36156ccd220376db4ce03cb2   1-Jan-1943   \n",
       "3  58b5cb9dbcec378955d2218617d6c3d3  12-Dec-1986   \n",
       "4  58b5cb9dbcec378955d2218617d6c3d3   4-Apr-1972   \n",
       "\n",
       "                               DOB_  \n",
       "0  20855ef826f425a348248ce5e8527423  \n",
       "1  4762743b3050e52651df242edc1b7015  \n",
       "2  8847c1ff7566c075cf864fa89f16e0e8  \n",
       "3  ba7c8011d73db8a7a64854d67130fc51  \n",
       "4  e10f14b1baba262cb8b13d8392444614  "
      ]
     },
     "execution_count": 10,
     "metadata": {},
     "output_type": "execute_result"
    }
   ],
   "source": [
    "lookup_df"
   ]
  },
  {
   "cell_type": "code",
   "execution_count": null,
   "metadata": {},
   "outputs": [],
   "source": []
  }
 ],
 "metadata": {
  "kernelspec": {
   "display_name": "Python 3",
   "language": "python",
   "name": "python3"
  },
  "language_info": {
   "codemirror_mode": {
    "name": "ipython",
    "version": 3
   },
   "file_extension": ".py",
   "mimetype": "text/x-python",
   "name": "python",
   "nbconvert_exporter": "python",
   "pygments_lexer": "ipython3",
   "version": "3.6.6"
  }
 },
 "nbformat": 4,
 "nbformat_minor": 2
}
