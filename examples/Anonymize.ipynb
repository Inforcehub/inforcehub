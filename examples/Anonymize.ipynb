{
 "cells": [
  {
   "cell_type": "markdown",
   "metadata": {},
   "source": [
    "# Anonymize\n",
    "\n",
    "See documentation for more details: https://inforcehub.readthedocs.io/en/latest/modules/anon.html"
   ]
  },
  {
   "cell_type": "code",
   "execution_count": 1,
   "metadata": {},
   "outputs": [],
   "source": [
    "# Ignore this cell - this is just used to make this example notebook work\n",
    "import sys\n",
    "sys.path.append(\"../\") "
   ]
  },
  {
   "cell_type": "markdown",
   "metadata": {},
   "source": [
    "## Load demo product data that we will anonymize"
   ]
  },
  {
   "cell_type": "code",
   "execution_count": 2,
   "metadata": {
    "scrolled": true
   },
   "outputs": [
    {
     "data": {
      "text/html": [
       "<div>\n",
       "<style scoped>\n",
       "    .dataframe tbody tr th:only-of-type {\n",
       "        vertical-align: middle;\n",
       "    }\n",
       "\n",
       "    .dataframe tbody tr th {\n",
       "        vertical-align: top;\n",
       "    }\n",
       "\n",
       "    .dataframe thead th {\n",
       "        text-align: right;\n",
       "    }\n",
       "</style>\n",
       "<table border=\"1\" class=\"dataframe\">\n",
       "  <thead>\n",
       "    <tr style=\"text-align: right;\">\n",
       "      <th></th>\n",
       "      <th>Contract number</th>\n",
       "      <th>Product</th>\n",
       "      <th>Status</th>\n",
       "      <th>First name</th>\n",
       "      <th>Last name</th>\n",
       "      <th>Age</th>\n",
       "      <th>DOB</th>\n",
       "      <th>Start date</th>\n",
       "      <th>Distributor code</th>\n",
       "      <th>Sum Assured</th>\n",
       "      <th>In-force premium</th>\n",
       "    </tr>\n",
       "  </thead>\n",
       "  <tbody>\n",
       "    <tr>\n",
       "      <th>0</th>\n",
       "      <td>33463634</td>\n",
       "      <td>Mousetrap</td>\n",
       "      <td>Active</td>\n",
       "      <td>John</td>\n",
       "      <td>McGee</td>\n",
       "      <td>45</td>\n",
       "      <td>2-Nov-1954</td>\n",
       "      <td>1-Jan-2013</td>\n",
       "      <td>3456</td>\n",
       "      <td>100000</td>\n",
       "      <td>150.3</td>\n",
       "    </tr>\n",
       "    <tr>\n",
       "      <th>1</th>\n",
       "      <td>223422342</td>\n",
       "      <td>Mousetrap</td>\n",
       "      <td>Active</td>\n",
       "      <td>Jane</td>\n",
       "      <td>Morrison</td>\n",
       "      <td>67</td>\n",
       "      <td>4-Jan-1967</td>\n",
       "      <td>1-Jan-2013</td>\n",
       "      <td>355</td>\n",
       "      <td>200000</td>\n",
       "      <td>204.0</td>\n",
       "    </tr>\n",
       "    <tr>\n",
       "      <th>2</th>\n",
       "      <td>4464646</td>\n",
       "      <td>Mousetrap Pro</td>\n",
       "      <td>Active</td>\n",
       "      <td>Bruce</td>\n",
       "      <td>Lane</td>\n",
       "      <td>62</td>\n",
       "      <td>1-Jan-1943</td>\n",
       "      <td>1-Jan-2013</td>\n",
       "      <td>5757</td>\n",
       "      <td>500000</td>\n",
       "      <td>950.0</td>\n",
       "    </tr>\n",
       "    <tr>\n",
       "      <th>3</th>\n",
       "      <td>4234335</td>\n",
       "      <td>Mousetrap Pro</td>\n",
       "      <td>Paid-up</td>\n",
       "      <td>Betty</td>\n",
       "      <td>Brown</td>\n",
       "      <td>45</td>\n",
       "      <td>12-Dec-1986</td>\n",
       "      <td>1-Jan-2013</td>\n",
       "      <td>355</td>\n",
       "      <td>550000</td>\n",
       "      <td>0.0</td>\n",
       "    </tr>\n",
       "    <tr>\n",
       "      <th>4</th>\n",
       "      <td>33535363</td>\n",
       "      <td>Mousetrap Pro</td>\n",
       "      <td>Lapsed</td>\n",
       "      <td>Arnold</td>\n",
       "      <td>Brown</td>\n",
       "      <td>53</td>\n",
       "      <td>4-Apr-1972</td>\n",
       "      <td>1-Jan-2013</td>\n",
       "      <td>355</td>\n",
       "      <td>400000</td>\n",
       "      <td>0.0</td>\n",
       "    </tr>\n",
       "  </tbody>\n",
       "</table>\n",
       "</div>"
      ],
      "text/plain": [
       "   Contract number        Product   Status First name Last name  Age  \\\n",
       "0         33463634      Mousetrap   Active       John     McGee   45   \n",
       "1        223422342      Mousetrap   Active       Jane  Morrison   67   \n",
       "2          4464646  Mousetrap Pro   Active      Bruce      Lane   62   \n",
       "3          4234335  Mousetrap Pro  Paid-up      Betty     Brown   45   \n",
       "4         33535363  Mousetrap Pro   Lapsed     Arnold     Brown   53   \n",
       "\n",
       "           DOB  Start date  Distributor code  Sum Assured  In-force premium  \n",
       "0   2-Nov-1954  1-Jan-2013              3456       100000             150.3  \n",
       "1   4-Jan-1967  1-Jan-2013               355       200000             204.0  \n",
       "2   1-Jan-1943  1-Jan-2013              5757       500000             950.0  \n",
       "3  12-Dec-1986  1-Jan-2013               355       550000               0.0  \n",
       "4   4-Apr-1972  1-Jan-2013               355       400000               0.0  "
      ]
     },
     "execution_count": 2,
     "metadata": {},
     "output_type": "execute_result"
    }
   ],
   "source": [
    "import pandas as pd\n",
    "\n",
    "FILENAME = 'data/product_data.csv'\n",
    "df = pd.read_csv(FILENAME)\n",
    "df"
   ]
  },
  {
   "cell_type": "markdown",
   "metadata": {},
   "source": [
    "## Import the module and initialize"
   ]
  },
  {
   "cell_type": "code",
   "execution_count": 3,
   "metadata": {},
   "outputs": [],
   "source": [
    "from inforcehub import Anonymize"
   ]
  },
  {
   "cell_type": "markdown",
   "metadata": {},
   "source": [
    "Normally a new Anonymize object will be created with no parameters.\n",
    "This will give more security as the salt (passphrase) will be generated randomly."
   ]
  },
  {
   "cell_type": "code",
   "execution_count": 4,
   "metadata": {},
   "outputs": [
    {
     "data": {
      "text/plain": [
       "b'$2b$12$X/8yROejinjGCwoXna2lGO'"
      ]
     },
     "execution_count": 4,
     "metadata": {},
     "output_type": "execute_result"
    }
   ],
   "source": [
    "anon = Anonymize()\n",
    "\n",
    "# Check the salt (passphrase) initialized at random\n",
    "anon.salt"
   ]
  },
  {
   "cell_type": "markdown",
   "metadata": {},
   "source": [
    "Alternatively a passphrase can be set manually for the `salt` parameter if you want to be able to reproduce the exact same encryption in the future."
   ]
  },
  {
   "cell_type": "code",
   "execution_count": 5,
   "metadata": {},
   "outputs": [
    {
     "data": {
      "text/plain": [
       "b'A_LONG_PASSWORD_THING'"
      ]
     },
     "execution_count": 5,
     "metadata": {},
     "output_type": "execute_result"
    }
   ],
   "source": [
    "anon_reproduce = Anonymize(salt='A_LONG_PASSWORD_THING')\n",
    "anon_reproduce.salt"
   ]
  },
  {
   "cell_type": "markdown",
   "metadata": {},
   "source": [
    "## Anonymize the dataset\n",
    "\n",
    "First list the columns that need to be encrypted."
   ]
  },
  {
   "cell_type": "code",
   "execution_count": 6,
   "metadata": {},
   "outputs": [],
   "source": [
    "to_transform = ['Contract number', 'First name', 'Last name', 'DOB']"
   ]
  },
  {
   "cell_type": "markdown",
   "metadata": {},
   "source": [
    "Then use the `transform()` method to anonymize the dataframe \n",
    "\n",
    "**Note** that `transform()` encrypts the original dataframe you pass the function and does not \n",
    "take a copy in order to not use too much memory. Take a copy of the dataframe \n",
    "with `original_df = df.copy(deep=True)` first if you want to keep the original.\n",
    "\n",
    "Using the `verbose=True` option will output the status as it does the encryption"
   ]
  },
  {
   "cell_type": "code",
   "execution_count": 7,
   "metadata": {},
   "outputs": [
    {
     "name": "stdout",
     "output_type": "stream",
     "text": [
      "Will convert columns: Contract number, First name, Last name, DOB\n",
      "Encrypting 5 rows per column ...\n",
      "\n",
      "Finished encrypting column Contract number\n",
      "Finished encrypting column First name\n",
      "Finished encrypting column Last name\n",
      "Finished encrypting column DOB\n"
     ]
    },
    {
     "data": {
      "text/html": [
       "<div>\n",
       "<style scoped>\n",
       "    .dataframe tbody tr th:only-of-type {\n",
       "        vertical-align: middle;\n",
       "    }\n",
       "\n",
       "    .dataframe tbody tr th {\n",
       "        vertical-align: top;\n",
       "    }\n",
       "\n",
       "    .dataframe thead th {\n",
       "        text-align: right;\n",
       "    }\n",
       "</style>\n",
       "<table border=\"1\" class=\"dataframe\">\n",
       "  <thead>\n",
       "    <tr style=\"text-align: right;\">\n",
       "      <th></th>\n",
       "      <th>Contract number</th>\n",
       "      <th>Product</th>\n",
       "      <th>Status</th>\n",
       "      <th>First name</th>\n",
       "      <th>Last name</th>\n",
       "      <th>Age</th>\n",
       "      <th>DOB</th>\n",
       "      <th>Start date</th>\n",
       "      <th>Distributor code</th>\n",
       "      <th>Sum Assured</th>\n",
       "      <th>In-force premium</th>\n",
       "    </tr>\n",
       "  </thead>\n",
       "  <tbody>\n",
       "    <tr>\n",
       "      <th>0</th>\n",
       "      <td>cfae755a8fbf9435bbe43b82e2ffa364</td>\n",
       "      <td>Mousetrap</td>\n",
       "      <td>Active</td>\n",
       "      <td>7440295ff79e92612e0cf07410d9560b</td>\n",
       "      <td>0c7a86bd41a6f5e5c3babedd4137807b</td>\n",
       "      <td>45</td>\n",
       "      <td>9b50ae74419de74b2ada42b2eafdb4d2</td>\n",
       "      <td>1-Jan-2013</td>\n",
       "      <td>3456</td>\n",
       "      <td>100000</td>\n",
       "      <td>150.3</td>\n",
       "    </tr>\n",
       "    <tr>\n",
       "      <th>1</th>\n",
       "      <td>a2061cb8d0e764b7ef3a69a2fd5a0af6</td>\n",
       "      <td>Mousetrap</td>\n",
       "      <td>Active</td>\n",
       "      <td>dc2c7cf671ddc6a823ebecf08ee16bc1</td>\n",
       "      <td>b2edc6804c363ecbf97643800f59f166</td>\n",
       "      <td>67</td>\n",
       "      <td>9c6ac21152ab7caf6108d85c07a83f51</td>\n",
       "      <td>1-Jan-2013</td>\n",
       "      <td>355</td>\n",
       "      <td>200000</td>\n",
       "      <td>204.0</td>\n",
       "    </tr>\n",
       "    <tr>\n",
       "      <th>2</th>\n",
       "      <td>37d358515ff5aba70f20cc7aa9d84e47</td>\n",
       "      <td>Mousetrap Pro</td>\n",
       "      <td>Active</td>\n",
       "      <td>d40c93d90f1c9a99143c4e86d369fc2b</td>\n",
       "      <td>fc76b79c382be6e219da0e5f453b2e2d</td>\n",
       "      <td>62</td>\n",
       "      <td>3a62702855fb1084240d1b448c9bdac5</td>\n",
       "      <td>1-Jan-2013</td>\n",
       "      <td>5757</td>\n",
       "      <td>500000</td>\n",
       "      <td>950.0</td>\n",
       "    </tr>\n",
       "    <tr>\n",
       "      <th>3</th>\n",
       "      <td>d83dbee2c4abc12d3dbf190077247c91</td>\n",
       "      <td>Mousetrap Pro</td>\n",
       "      <td>Paid-up</td>\n",
       "      <td>dec02ebf1c8a6dc565e8f3ac31efc058</td>\n",
       "      <td>619a6e28fb844cac77529699592a137c</td>\n",
       "      <td>45</td>\n",
       "      <td>7ec73220a65cd76f34e646c68ff93a30</td>\n",
       "      <td>1-Jan-2013</td>\n",
       "      <td>355</td>\n",
       "      <td>550000</td>\n",
       "      <td>0.0</td>\n",
       "    </tr>\n",
       "    <tr>\n",
       "      <th>4</th>\n",
       "      <td>8050aa496533cae3c9d6dd41060f7eb3</td>\n",
       "      <td>Mousetrap Pro</td>\n",
       "      <td>Lapsed</td>\n",
       "      <td>f0fae80126b98148181ac694ed9c9c9a</td>\n",
       "      <td>619a6e28fb844cac77529699592a137c</td>\n",
       "      <td>53</td>\n",
       "      <td>1ac7cf470be3fde20794527a96000fbf</td>\n",
       "      <td>1-Jan-2013</td>\n",
       "      <td>355</td>\n",
       "      <td>400000</td>\n",
       "      <td>0.0</td>\n",
       "    </tr>\n",
       "  </tbody>\n",
       "</table>\n",
       "</div>"
      ],
      "text/plain": [
       "                    Contract number        Product   Status  \\\n",
       "0  cfae755a8fbf9435bbe43b82e2ffa364      Mousetrap   Active   \n",
       "1  a2061cb8d0e764b7ef3a69a2fd5a0af6      Mousetrap   Active   \n",
       "2  37d358515ff5aba70f20cc7aa9d84e47  Mousetrap Pro   Active   \n",
       "3  d83dbee2c4abc12d3dbf190077247c91  Mousetrap Pro  Paid-up   \n",
       "4  8050aa496533cae3c9d6dd41060f7eb3  Mousetrap Pro   Lapsed   \n",
       "\n",
       "                         First name                         Last name  Age  \\\n",
       "0  7440295ff79e92612e0cf07410d9560b  0c7a86bd41a6f5e5c3babedd4137807b   45   \n",
       "1  dc2c7cf671ddc6a823ebecf08ee16bc1  b2edc6804c363ecbf97643800f59f166   67   \n",
       "2  d40c93d90f1c9a99143c4e86d369fc2b  fc76b79c382be6e219da0e5f453b2e2d   62   \n",
       "3  dec02ebf1c8a6dc565e8f3ac31efc058  619a6e28fb844cac77529699592a137c   45   \n",
       "4  f0fae80126b98148181ac694ed9c9c9a  619a6e28fb844cac77529699592a137c   53   \n",
       "\n",
       "                                DOB  Start date  Distributor code  \\\n",
       "0  9b50ae74419de74b2ada42b2eafdb4d2  1-Jan-2013              3456   \n",
       "1  9c6ac21152ab7caf6108d85c07a83f51  1-Jan-2013               355   \n",
       "2  3a62702855fb1084240d1b448c9bdac5  1-Jan-2013              5757   \n",
       "3  7ec73220a65cd76f34e646c68ff93a30  1-Jan-2013               355   \n",
       "4  1ac7cf470be3fde20794527a96000fbf  1-Jan-2013               355   \n",
       "\n",
       "   Sum Assured  In-force premium  \n",
       "0       100000             150.3  \n",
       "1       200000             204.0  \n",
       "2       500000             950.0  \n",
       "3       550000               0.0  \n",
       "4       400000               0.0  "
      ]
     },
     "execution_count": 7,
     "metadata": {},
     "output_type": "execute_result"
    }
   ],
   "source": [
    "anon.transform(df, to_transform, verbose=True)\n",
    "df"
   ]
  },
  {
   "cell_type": "markdown",
   "metadata": {},
   "source": [
    "## Pseudo-anonymize the dataset\n",
    "\n",
    "The same process is used, and collect the **lookup keys** are returned by the `tranform()` method"
   ]
  },
  {
   "cell_type": "code",
   "execution_count": 8,
   "metadata": {},
   "outputs": [],
   "source": [
    "# Reset our dataframe from our file\n",
    "df = pd.read_csv(FILENAME)"
   ]
  },
  {
   "cell_type": "code",
   "execution_count": 9,
   "metadata": {},
   "outputs": [
    {
     "name": "stdout",
     "output_type": "stream",
     "text": [
      "Will convert columns: Contract number, First name, Last name, DOB\n",
      "Encrypting 5 rows per column ...\n",
      "\n",
      "Finished encrypting column Contract number\n",
      "Finished encrypting column First name\n",
      "Finished encrypting column Last name\n",
      "Finished encrypting column DOB\n"
     ]
    }
   ],
   "source": [
    "# Collect the lookup keys\n",
    "lookup_df = anon.transform(df, to_transform, verbose=True)"
   ]
  },
  {
   "cell_type": "markdown",
   "metadata": {},
   "source": [
    "The lookup keys are a dataframe of column pairs for the encrypted and unencrypted values"
   ]
  },
  {
   "cell_type": "code",
   "execution_count": 10,
   "metadata": {},
   "outputs": [
    {
     "data": {
      "text/html": [
       "<div>\n",
       "<style scoped>\n",
       "    .dataframe tbody tr th:only-of-type {\n",
       "        vertical-align: middle;\n",
       "    }\n",
       "\n",
       "    .dataframe tbody tr th {\n",
       "        vertical-align: top;\n",
       "    }\n",
       "\n",
       "    .dataframe thead th {\n",
       "        text-align: right;\n",
       "    }\n",
       "</style>\n",
       "<table border=\"1\" class=\"dataframe\">\n",
       "  <thead>\n",
       "    <tr style=\"text-align: right;\">\n",
       "      <th></th>\n",
       "      <th>Contract number</th>\n",
       "      <th>Contract number_</th>\n",
       "      <th>First name</th>\n",
       "      <th>First name_</th>\n",
       "      <th>Last name</th>\n",
       "      <th>Last name_</th>\n",
       "      <th>DOB</th>\n",
       "      <th>DOB_</th>\n",
       "    </tr>\n",
       "  </thead>\n",
       "  <tbody>\n",
       "    <tr>\n",
       "      <th>0</th>\n",
       "      <td>33463634</td>\n",
       "      <td>cfae755a8fbf9435bbe43b82e2ffa364</td>\n",
       "      <td>John</td>\n",
       "      <td>7440295ff79e92612e0cf07410d9560b</td>\n",
       "      <td>McGee</td>\n",
       "      <td>0c7a86bd41a6f5e5c3babedd4137807b</td>\n",
       "      <td>2-Nov-1954</td>\n",
       "      <td>9b50ae74419de74b2ada42b2eafdb4d2</td>\n",
       "    </tr>\n",
       "    <tr>\n",
       "      <th>1</th>\n",
       "      <td>223422342</td>\n",
       "      <td>a2061cb8d0e764b7ef3a69a2fd5a0af6</td>\n",
       "      <td>Jane</td>\n",
       "      <td>dc2c7cf671ddc6a823ebecf08ee16bc1</td>\n",
       "      <td>Morrison</td>\n",
       "      <td>b2edc6804c363ecbf97643800f59f166</td>\n",
       "      <td>4-Jan-1967</td>\n",
       "      <td>9c6ac21152ab7caf6108d85c07a83f51</td>\n",
       "    </tr>\n",
       "    <tr>\n",
       "      <th>2</th>\n",
       "      <td>4464646</td>\n",
       "      <td>37d358515ff5aba70f20cc7aa9d84e47</td>\n",
       "      <td>Bruce</td>\n",
       "      <td>d40c93d90f1c9a99143c4e86d369fc2b</td>\n",
       "      <td>Lane</td>\n",
       "      <td>fc76b79c382be6e219da0e5f453b2e2d</td>\n",
       "      <td>1-Jan-1943</td>\n",
       "      <td>3a62702855fb1084240d1b448c9bdac5</td>\n",
       "    </tr>\n",
       "    <tr>\n",
       "      <th>3</th>\n",
       "      <td>4234335</td>\n",
       "      <td>d83dbee2c4abc12d3dbf190077247c91</td>\n",
       "      <td>Betty</td>\n",
       "      <td>dec02ebf1c8a6dc565e8f3ac31efc058</td>\n",
       "      <td>Brown</td>\n",
       "      <td>619a6e28fb844cac77529699592a137c</td>\n",
       "      <td>12-Dec-1986</td>\n",
       "      <td>7ec73220a65cd76f34e646c68ff93a30</td>\n",
       "    </tr>\n",
       "    <tr>\n",
       "      <th>4</th>\n",
       "      <td>33535363</td>\n",
       "      <td>8050aa496533cae3c9d6dd41060f7eb3</td>\n",
       "      <td>Arnold</td>\n",
       "      <td>f0fae80126b98148181ac694ed9c9c9a</td>\n",
       "      <td>Brown</td>\n",
       "      <td>619a6e28fb844cac77529699592a137c</td>\n",
       "      <td>4-Apr-1972</td>\n",
       "      <td>1ac7cf470be3fde20794527a96000fbf</td>\n",
       "    </tr>\n",
       "  </tbody>\n",
       "</table>\n",
       "</div>"
      ],
      "text/plain": [
       "   Contract number                  Contract number_ First name  \\\n",
       "0         33463634  cfae755a8fbf9435bbe43b82e2ffa364       John   \n",
       "1        223422342  a2061cb8d0e764b7ef3a69a2fd5a0af6       Jane   \n",
       "2          4464646  37d358515ff5aba70f20cc7aa9d84e47      Bruce   \n",
       "3          4234335  d83dbee2c4abc12d3dbf190077247c91      Betty   \n",
       "4         33535363  8050aa496533cae3c9d6dd41060f7eb3     Arnold   \n",
       "\n",
       "                        First name_ Last name  \\\n",
       "0  7440295ff79e92612e0cf07410d9560b     McGee   \n",
       "1  dc2c7cf671ddc6a823ebecf08ee16bc1  Morrison   \n",
       "2  d40c93d90f1c9a99143c4e86d369fc2b      Lane   \n",
       "3  dec02ebf1c8a6dc565e8f3ac31efc058     Brown   \n",
       "4  f0fae80126b98148181ac694ed9c9c9a     Brown   \n",
       "\n",
       "                         Last name_          DOB  \\\n",
       "0  0c7a86bd41a6f5e5c3babedd4137807b   2-Nov-1954   \n",
       "1  b2edc6804c363ecbf97643800f59f166   4-Jan-1967   \n",
       "2  fc76b79c382be6e219da0e5f453b2e2d   1-Jan-1943   \n",
       "3  619a6e28fb844cac77529699592a137c  12-Dec-1986   \n",
       "4  619a6e28fb844cac77529699592a137c   4-Apr-1972   \n",
       "\n",
       "                               DOB_  \n",
       "0  9b50ae74419de74b2ada42b2eafdb4d2  \n",
       "1  9c6ac21152ab7caf6108d85c07a83f51  \n",
       "2  3a62702855fb1084240d1b448c9bdac5  \n",
       "3  7ec73220a65cd76f34e646c68ff93a30  \n",
       "4  1ac7cf470be3fde20794527a96000fbf  "
      ]
     },
     "execution_count": 10,
     "metadata": {},
     "output_type": "execute_result"
    }
   ],
   "source": [
    "lookup_df"
   ]
  },
  {
   "cell_type": "code",
   "execution_count": null,
   "metadata": {},
   "outputs": [],
   "source": []
  }
 ],
 "metadata": {
  "kernelspec": {
   "display_name": "Python 3",
   "language": "python",
   "name": "python3"
  },
  "language_info": {
   "codemirror_mode": {
    "name": "ipython",
    "version": 3
   },
   "file_extension": ".py",
   "mimetype": "text/x-python",
   "name": "python",
   "nbconvert_exporter": "python",
   "pygments_lexer": "ipython3",
   "version": "3.6.6"
  }
 },
 "nbformat": 4,
 "nbformat_minor": 2
}
